{
 "cells": [
  {
   "cell_type": "code",
   "execution_count": 1,
   "id": "28ba9fef-593b-441c-947c-f35ee5220e39",
   "metadata": {},
   "outputs": [
    {
     "name": "stdout",
     "output_type": "stream",
     "text": [
      "Addition: 8\n",
      "Subtraction: 2\n",
      "Multiplication: 15\n",
      "Division: 1.6666666666666667\n"
     ]
    }
   ],
   "source": [
    "# Arithmetic Operations\n",
    "x = 5\n",
    "y = 3\n",
    "# Addition\n",
    "result = x + y\n",
    "print(\"Addition:\", result)\n",
    "# Subtraction\n",
    "result = x - y\n",
    "print(\"Subtraction:\", result)\n",
    "# Multiplication\n",
    "result = x * y\n",
    "print(\"Multiplication:\", result)\n",
    "# Division\n",
    "result = x / y\n",
    "print(\"Division:\", result)"
   ]
  },
  {
   "cell_type": "code",
   "execution_count": 2,
   "id": "e811ff43-6665-4388-817c-d5123172273a",
   "metadata": {},
   "outputs": [
    {
     "name": "stdout",
     "output_type": "stream",
     "text": [
      "Hello, jay!\n"
     ]
    }
   ],
   "source": [
    "# String Manipulation\n",
    "name = \"jay\"\n",
    "greeting = \"Hello, \" + name + \"!\"\n",
    "print(greeting)"
   ]
  },
  {
   "cell_type": "code",
   "execution_count": 3,
   "id": "78f23993-ff8c-4405-bd59-58ca23f8d711",
   "metadata": {},
   "outputs": [
    {
     "name": "stdout",
     "output_type": "stream",
     "text": [
      "You are eligible to vote.\n"
     ]
    }
   ],
   "source": [
    "# Conditional Statements\n",
    "age = 25\n",
    "if age >= 18:\n",
    " print(\"You are eligible to vote.\")\n",
    "else:\n",
    " print(\"You are not eligible to vote.\")"
   ]
  },
  {
   "cell_type": "code",
   "execution_count": 4,
   "id": "b6f2f586-74cc-4140-9c3b-6b4b7124fcc0",
   "metadata": {},
   "outputs": [
    {
     "name": "stdout",
     "output_type": "stream",
     "text": [
      "Grade: A\n"
     ]
    }
   ],
   "source": [
    "# Conditional Statement with elif\n",
    "score = 91\n",
    "if score >= 90:\n",
    " print(\"Grade: A\")\n",
    "elif score >= 80:\n",
    " print(\"Grade: B\")\n",
    "elif score >= 70:\n",
    " print(\"Grade: C\")\n",
    "else:\n",
    " print(\"Grade: F\")\n",
    "\n"
   ]
  },
  {
   "cell_type": "code",
   "execution_count": 5,
   "id": "f514497c-8bb0-4ba5-b598-d67f0c3fe177",
   "metadata": {},
   "outputs": [
    {
     "name": "stdout",
     "output_type": "stream",
     "text": [
      "updated list:  [1, 2, 15, 5, 8]\n"
     ]
    }
   ],
   "source": [
    "#list\n",
    "my_list=[1,2,3,4,5]\n",
    "my_list.append(8)\n",
    "my_list.remove(3)\n",
    "my_list[2]=15\n",
    "print(\"updated list: \",my_list)"
   ]
  },
  {
   "cell_type": "code",
   "execution_count": 6,
   "id": "80555517-9ed0-4770-bb61-8b7fc5fdab80",
   "metadata": {},
   "outputs": [
    {
     "name": "stdout",
     "output_type": "stream",
     "text": [
      "Updated dictionary:  {'name': 'jay', 'Age': 21, 'gender': 'male', 'age': 23}\n"
     ]
    }
   ],
   "source": [
    "#dictionary\n",
    "my_dict = {'name': 'jay', 'Age': 21, 'city' : 'Hyderabad'}\n",
    "my_dict['gender'] = 'male'\n",
    "del my_dict['city']\n",
    "my_dict['age'] = 23\n",
    "print(\"Updated dictionary: \", my_dict)"
   ]
  },
  {
   "cell_type": "code",
   "execution_count": 7,
   "id": "603c1c7f-0ab0-4c27-91f9-95847fef350d",
   "metadata": {},
   "outputs": [
    {
     "name": "stdout",
     "output_type": "stream",
     "text": [
      "Updated set:  {1, 2, 4, 5, 6}\n"
     ]
    }
   ],
   "source": [
    "#sets\n",
    "my_set={1,2,3,4,5}\n",
    "my_set.add(6)\n",
    "my_set.remove(3)\n",
    "my_set.discard(7)\n",
    "print(\"Updated set: \",my_set)"
   ]
  },
  {
   "cell_type": "code",
   "execution_count": null,
   "id": "6cd2747f-b71a-4fdf-b60f-042d4eab511a",
   "metadata": {},
   "outputs": [],
   "source": []
  }
 ],
 "metadata": {
  "kernelspec": {
   "display_name": "Python 3 (ipykernel)",
   "language": "python",
   "name": "python3"
  },
  "language_info": {
   "codemirror_mode": {
    "name": "ipython",
    "version": 3
   },
   "file_extension": ".py",
   "mimetype": "text/x-python",
   "name": "python",
   "nbconvert_exporter": "python",
   "pygments_lexer": "ipython3",
   "version": "3.11.4"
  }
 },
 "nbformat": 4,
 "nbformat_minor": 5
}
